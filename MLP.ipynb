{
  "nbformat": 4,
  "nbformat_minor": 0,
  "metadata": {
    "colab": {
      "provenance": [],
      "include_colab_link": true
    },
    "kernelspec": {
      "name": "python3",
      "display_name": "Python 3"
    },
    "language_info": {
      "name": "python"
    }
  },
  "cells": [
    {
      "cell_type": "markdown",
      "metadata": {
        "id": "view-in-github",
        "colab_type": "text"
      },
      "source": [
        "<a href=\"https://colab.research.google.com/github/aha2003/F28WP-lab1/blob/main/MLP.ipynb\" target=\"_parent\"><img src=\"https://colab.research.google.com/assets/colab-badge.svg\" alt=\"Open In Colab\"/></a>"
      ]
    },
    {
      "cell_type": "code",
      "execution_count": 1,
      "metadata": {
        "id": "0oloYyVH5nJB",
        "colab": {
          "base_uri": "https://localhost:8080/"
        },
        "outputId": "02461a83-c82a-457b-d143-35ff8696d142"
      },
      "outputs": [
        {
          "output_type": "stream",
          "name": "stdout",
          "text": [
            "Mounted at /content/drive\n"
          ]
        }
      ],
      "source": [
        "from google.colab import drive\n",
        "drive.mount('/content/drive')\n"
      ]
    },
    {
      "cell_type": "code",
      "source": [
        "import os\n",
        "dataset_path = \"/content/drive/MyDrive/Kaggle_Datasets/sdss-image-dataset\"\n",
        "os.listdir(dataset_path)\n",
        "\n"
      ],
      "metadata": {
        "colab": {
          "base_uri": "https://localhost:8080/"
        },
        "id": "9nc824hU7f0q",
        "outputId": "46db4a5a-554a-4827-e04f-022735a3363c"
      },
      "execution_count": 2,
      "outputs": [
        {
          "output_type": "execute_result",
          "data": {
            "text/plain": [
              "['processed_sdss.h5']"
            ]
          },
          "metadata": {},
          "execution_count": 2
        }
      ]
    },
    {
      "cell_type": "code",
      "source": [
        "import h5py\n",
        "\n",
        "file_path = f\"{dataset_path}/processed_sdss.h5\"\n",
        "\n",
        "with h5py.File(file_path, \"r\") as f:\n",
        "    print(\"Keys in HDF5 file:\", list(f.keys()))\n",
        "    for key in f.keys():\n",
        "        print(f\"{key}: shape={f[key].shape}, dtype={f[key].dtype}\")\n"
      ],
      "metadata": {
        "colab": {
          "base_uri": "https://localhost:8080/"
        },
        "id": "bh3wZY9s7rA8",
        "outputId": "0c99e5ee-b34b-4b5b-ddff-e580ec4949f4"
      },
      "execution_count": 3,
      "outputs": [
        {
          "output_type": "stream",
          "name": "stdout",
          "text": [
            "Keys in HDF5 file: ['ObjID', 'death_status', 'dec', 'e_bv', 'g_mag', 'g_minus_r', 'i_mag', 'i_minus_z', 'images', 'r_mag', 'r_minus_i', 'ra', 'specObjID', 'specz_redshift', 'specz_redshift_err', 'u_mag', 'u_minus_g', 'z_mag']\n",
            "ObjID: shape=(136611,), dtype=|S20\n",
            "death_status: shape=(136611,), dtype=|S15\n",
            "dec: shape=(136611,), dtype=float64\n",
            "e_bv: shape=(136611,), dtype=float32\n",
            "g_mag: shape=(136611,), dtype=float32\n",
            "g_minus_r: shape=(136611,), dtype=float32\n",
            "i_mag: shape=(136611,), dtype=float32\n",
            "i_minus_z: shape=(136611,), dtype=float32\n",
            "images: shape=(136611, 107, 107, 5), dtype=float32\n",
            "r_mag: shape=(136611,), dtype=float32\n",
            "r_minus_i: shape=(136611,), dtype=float32\n",
            "ra: shape=(136611,), dtype=float64\n",
            "specObjID: shape=(136611,), dtype=int64\n",
            "specz_redshift: shape=(136611,), dtype=float32\n",
            "specz_redshift_err: shape=(136611,), dtype=float32\n",
            "u_mag: shape=(136611,), dtype=float32\n",
            "u_minus_g: shape=(136611,), dtype=float32\n",
            "z_mag: shape=(136611,), dtype=float32\n"
          ]
        }
      ]
    },
    {
      "cell_type": "code",
      "source": [
        "import h5py\n",
        "import numpy as np\n",
        "from sklearn.model_selection import train_test_split\n",
        "from sklearn.preprocessing import LabelEncoder, StandardScaler\n",
        "\n",
        "\n",
        "file_path = f\"{dataset_path}/processed_sdss.h5\"\n",
        "\n",
        "with h5py.File(file_path, 'r') as f:\n",
        "    print(\"Keys in HDF5 file:\", list(f.keys()))\n",
        "\n",
        "    # Target (labels)\n",
        "    y = np.array(f[\"death_status\"][:]).astype(str)\n",
        "\n",
        "    # Input features\n",
        "    X = np.column_stack([\n",
        "        f[\"u_mag\"][:],\n",
        "        f[\"g_mag\"][:],\n",
        "        f[\"r_mag\"][:],\n",
        "        f[\"i_mag\"][:],\n",
        "        f[\"z_mag\"][:],\n",
        "        f[\"u_minus_g\"][:],\n",
        "        f[\"g_minus_r\"][:],\n",
        "        f[\"r_minus_i\"][:],\n",
        "        f[\"i_minus_z\"][:],\n",
        "        f[\"specz_redshift\"][:],\n",
        "        f[\"specz_redshift_err\"][:],\n",
        "        f[\"e_bv\"][:],\n",
        "        f[\"ra\"][:],\n",
        "        f[\"dec\"][:]\n",
        "    ])\n"
      ],
      "metadata": {
        "colab": {
          "base_uri": "https://localhost:8080/"
        },
        "id": "bmqh1alP7trP",
        "outputId": "af4530b3-1648-4ed7-dcf9-67afe49eebfd"
      },
      "execution_count": 5,
      "outputs": [
        {
          "output_type": "stream",
          "name": "stdout",
          "text": [
            "Keys in HDF5 file: ['ObjID', 'death_status', 'dec', 'e_bv', 'g_mag', 'g_minus_r', 'i_mag', 'i_minus_z', 'images', 'r_mag', 'r_minus_i', 'ra', 'specObjID', 'specz_redshift', 'specz_redshift_err', 'u_mag', 'u_minus_g', 'z_mag']\n"
          ]
        }
      ]
    },
    {
      "cell_type": "code",
      "source": [
        "from sklearn.preprocessing import LabelEncoder\n",
        "\n",
        "label_encoder = LabelEncoder()\n",
        "y_encoded = label_encoder.fit_transform(y)\n",
        "\n",
        "print(\"Label classes:\", label_encoder.classes_)\n"
      ],
      "metadata": {
        "colab": {
          "base_uri": "https://localhost:8080/"
        },
        "id": "UG4V1NKE7wn3",
        "outputId": "1141a9d0-8081-4e1d-a693-6204f864ba04"
      },
      "execution_count": 6,
      "outputs": [
        {
          "output_type": "stream",
          "name": "stdout",
          "text": [
            "Label classes: ['ALIVE' 'DEAD' 'TRANSITIONAL']\n"
          ]
        }
      ]
    },
    {
      "cell_type": "code",
      "source": [
        "from sklearn.model_selection import train_test_split\n",
        "\n",
        "X_train, X_test, y_train, y_test = train_test_split(\n",
        "    X, y_encoded, test_size=0.3, random_state=42\n",
        ")\n"
      ],
      "metadata": {
        "id": "TkOerCIe8SWk"
      },
      "execution_count": 7,
      "outputs": []
    },
    {
      "cell_type": "code",
      "source": [
        "from sklearn.preprocessing import StandardScaler\n",
        "\n",
        "scaler = StandardScaler()\n",
        "X_train = scaler.fit_transform(X_train)\n",
        "X_test = scaler.transform(X_test)\n"
      ],
      "metadata": {
        "id": "sUioazTl8b8N"
      },
      "execution_count": 8,
      "outputs": []
    },
    {
      "cell_type": "code",
      "source": [
        "from tensorflow.keras.models import Sequential\n",
        "from tensorflow.keras.layers import Dense, Dropout\n",
        "from tensorflow.keras.optimizers import Adam\n",
        "\n",
        "model = Sequential([\n",
        "    Dense(128, activation='relu', input_shape=(X_train.shape[1],)),\n",
        "    Dropout(0.3),\n",
        "    Dense(64, activation='relu'),\n",
        "    Dropout(0.3),\n",
        "    Dense(len(np.unique(y_encoded)), activation='softmax')\n",
        "])\n",
        "\n",
        "model.compile(\n",
        "    optimizer=Adam(learning_rate=1e-3),\n",
        "    loss='sparse_categorical_crossentropy',\n",
        "    metrics=['accuracy']\n",
        ")\n",
        "\n",
        "history = model.fit(\n",
        "    X_train, y_train,\n",
        "    validation_split=0.1,\n",
        "    epochs=20,\n",
        "    batch_size=128,\n",
        "    verbose=1\n",
        ")\n"
      ],
      "metadata": {
        "colab": {
          "base_uri": "https://localhost:8080/"
        },
        "id": "E51m7fH08dxG",
        "outputId": "8334a63f-832e-400a-ae54-1e3cff06ce6c"
      },
      "execution_count": 9,
      "outputs": [
        {
          "output_type": "stream",
          "name": "stderr",
          "text": [
            "/usr/local/lib/python3.12/dist-packages/keras/src/layers/core/dense.py:93: UserWarning: Do not pass an `input_shape`/`input_dim` argument to a layer. When using Sequential models, prefer using an `Input(shape)` object as the first layer in the model instead.\n",
            "  super().__init__(activity_regularizer=activity_regularizer, **kwargs)\n"
          ]
        },
        {
          "output_type": "stream",
          "name": "stdout",
          "text": [
            "Epoch 1/20\n",
            "\u001b[1m673/673\u001b[0m \u001b[32m━━━━━━━━━━━━━━━━━━━━\u001b[0m\u001b[37m\u001b[0m \u001b[1m4s\u001b[0m 4ms/step - accuracy: 0.7929 - loss: 0.5147 - val_accuracy: 0.9310 - val_loss: 0.1828\n",
            "Epoch 2/20\n",
            "\u001b[1m673/673\u001b[0m \u001b[32m━━━━━━━━━━━━━━━━━━━━\u001b[0m\u001b[37m\u001b[0m \u001b[1m2s\u001b[0m 3ms/step - accuracy: 0.9209 - loss: 0.1973 - val_accuracy: 0.9713 - val_loss: 0.0895\n",
            "Epoch 3/20\n",
            "\u001b[1m673/673\u001b[0m \u001b[32m━━━━━━━━━━━━━━━━━━━━\u001b[0m\u001b[37m\u001b[0m \u001b[1m3s\u001b[0m 4ms/step - accuracy: 0.9491 - loss: 0.1322 - val_accuracy: 0.9787 - val_loss: 0.0665\n",
            "Epoch 4/20\n",
            "\u001b[1m673/673\u001b[0m \u001b[32m━━━━━━━━━━━━━━━━━━━━\u001b[0m\u001b[37m\u001b[0m \u001b[1m4s\u001b[0m 5ms/step - accuracy: 0.9604 - loss: 0.1037 - val_accuracy: 0.9832 - val_loss: 0.0506\n",
            "Epoch 5/20\n",
            "\u001b[1m673/673\u001b[0m \u001b[32m━━━━━━━━━━━━━━━━━━━━\u001b[0m\u001b[37m\u001b[0m \u001b[1m2s\u001b[0m 3ms/step - accuracy: 0.9682 - loss: 0.0821 - val_accuracy: 0.9839 - val_loss: 0.0449\n",
            "Epoch 6/20\n",
            "\u001b[1m673/673\u001b[0m \u001b[32m━━━━━━━━━━━━━━━━━━━━\u001b[0m\u001b[37m\u001b[0m \u001b[1m2s\u001b[0m 3ms/step - accuracy: 0.9716 - loss: 0.0742 - val_accuracy: 0.9838 - val_loss: 0.0471\n",
            "Epoch 7/20\n",
            "\u001b[1m673/673\u001b[0m \u001b[32m━━━━━━━━━━━━━━━━━━━━\u001b[0m\u001b[37m\u001b[0m \u001b[1m2s\u001b[0m 3ms/step - accuracy: 0.9749 - loss: 0.0641 - val_accuracy: 0.9903 - val_loss: 0.0305\n",
            "Epoch 8/20\n",
            "\u001b[1m673/673\u001b[0m \u001b[32m━━━━━━━━━━━━━━━━━━━━\u001b[0m\u001b[37m\u001b[0m \u001b[1m2s\u001b[0m 3ms/step - accuracy: 0.9768 - loss: 0.0592 - val_accuracy: 0.9878 - val_loss: 0.0327\n",
            "Epoch 9/20\n",
            "\u001b[1m673/673\u001b[0m \u001b[32m━━━━━━━━━━━━━━━━━━━━\u001b[0m\u001b[37m\u001b[0m \u001b[1m3s\u001b[0m 5ms/step - accuracy: 0.9785 - loss: 0.0559 - val_accuracy: 0.9910 - val_loss: 0.0260\n",
            "Epoch 10/20\n",
            "\u001b[1m673/673\u001b[0m \u001b[32m━━━━━━━━━━━━━━━━━━━━\u001b[0m\u001b[37m\u001b[0m \u001b[1m3s\u001b[0m 5ms/step - accuracy: 0.9805 - loss: 0.0504 - val_accuracy: 0.9906 - val_loss: 0.0266\n",
            "Epoch 11/20\n",
            "\u001b[1m673/673\u001b[0m \u001b[32m━━━━━━━━━━━━━━━━━━━━\u001b[0m\u001b[37m\u001b[0m \u001b[1m2s\u001b[0m 3ms/step - accuracy: 0.9807 - loss: 0.0491 - val_accuracy: 0.9852 - val_loss: 0.0325\n",
            "Epoch 12/20\n",
            "\u001b[1m673/673\u001b[0m \u001b[32m━━━━━━━━━━━━━━━━━━━━\u001b[0m\u001b[37m\u001b[0m \u001b[1m2s\u001b[0m 3ms/step - accuracy: 0.9824 - loss: 0.0451 - val_accuracy: 0.9887 - val_loss: 0.0265\n",
            "Epoch 13/20\n",
            "\u001b[1m673/673\u001b[0m \u001b[32m━━━━━━━━━━━━━━━━━━━━\u001b[0m\u001b[37m\u001b[0m \u001b[1m2s\u001b[0m 3ms/step - accuracy: 0.9833 - loss: 0.0435 - val_accuracy: 0.9907 - val_loss: 0.0272\n",
            "Epoch 14/20\n",
            "\u001b[1m673/673\u001b[0m \u001b[32m━━━━━━━━━━━━━━━━━━━━\u001b[0m\u001b[37m\u001b[0m \u001b[1m2s\u001b[0m 3ms/step - accuracy: 0.9831 - loss: 0.0436 - val_accuracy: 0.9921 - val_loss: 0.0232\n",
            "Epoch 15/20\n",
            "\u001b[1m673/673\u001b[0m \u001b[32m━━━━━━━━━━━━━━━━━━━━\u001b[0m\u001b[37m\u001b[0m \u001b[1m3s\u001b[0m 5ms/step - accuracy: 0.9856 - loss: 0.0365 - val_accuracy: 0.9919 - val_loss: 0.0220\n",
            "Epoch 16/20\n",
            "\u001b[1m673/673\u001b[0m \u001b[32m━━━━━━━━━━━━━━━━━━━━\u001b[0m\u001b[37m\u001b[0m \u001b[1m3s\u001b[0m 4ms/step - accuracy: 0.9856 - loss: 0.0372 - val_accuracy: 0.9895 - val_loss: 0.0262\n",
            "Epoch 17/20\n",
            "\u001b[1m673/673\u001b[0m \u001b[32m━━━━━━━━━━━━━━━━━━━━\u001b[0m\u001b[37m\u001b[0m \u001b[1m2s\u001b[0m 3ms/step - accuracy: 0.9857 - loss: 0.0378 - val_accuracy: 0.9912 - val_loss: 0.0221\n",
            "Epoch 18/20\n",
            "\u001b[1m673/673\u001b[0m \u001b[32m━━━━━━━━━━━━━━━━━━━━\u001b[0m\u001b[37m\u001b[0m \u001b[1m2s\u001b[0m 3ms/step - accuracy: 0.9863 - loss: 0.0353 - val_accuracy: 0.9901 - val_loss: 0.0226\n",
            "Epoch 19/20\n",
            "\u001b[1m673/673\u001b[0m \u001b[32m━━━━━━━━━━━━━━━━━━━━\u001b[0m\u001b[37m\u001b[0m \u001b[1m2s\u001b[0m 3ms/step - accuracy: 0.9856 - loss: 0.0371 - val_accuracy: 0.9921 - val_loss: 0.0198\n",
            "Epoch 20/20\n",
            "\u001b[1m673/673\u001b[0m \u001b[32m━━━━━━━━━━━━━━━━━━━━\u001b[0m\u001b[37m\u001b[0m \u001b[1m2s\u001b[0m 4ms/step - accuracy: 0.9865 - loss: 0.0349 - val_accuracy: 0.9889 - val_loss: 0.0264\n"
          ]
        }
      ]
    },
    {
      "cell_type": "code",
      "source": [
        "\n",
        "model = Sequential([\n",
        "    Dense(128, activation='relu', input_shape=(X_train.shape[1],)),\n",
        "    Dropout(0.3),\n",
        "    Dense(64, activation='relu'),\n",
        "    Dropout(0.3),\n",
        "    Dense(len(np.unique(y_encoded)), activation='softmax')\n",
        "])\n",
        "\n",
        "model.compile(\n",
        "    optimizer=Adam(learning_rate=1e-4),\n",
        "    loss='sparse_categorical_crossentropy',\n",
        "    metrics=['accuracy']\n",
        ")\n",
        "\n",
        "history = model.fit(\n",
        "    X_train, y_train,\n",
        "    validation_split=0.1,\n",
        "    epochs=20,\n",
        "    batch_size=128,\n",
        "    verbose=1\n",
        ")\n"
      ],
      "metadata": {
        "colab": {
          "base_uri": "https://localhost:8080/"
        },
        "id": "JB7jrZAH8fkn",
        "outputId": "7a01d131-b84a-4b57-e1c2-4584d5c49b2f"
      },
      "execution_count": 10,
      "outputs": [
        {
          "output_type": "stream",
          "name": "stdout",
          "text": [
            "Epoch 1/20\n",
            "\u001b[1m673/673\u001b[0m \u001b[32m━━━━━━━━━━━━━━━━━━━━\u001b[0m\u001b[37m\u001b[0m \u001b[1m5s\u001b[0m 4ms/step - accuracy: 0.6266 - loss: 0.8697 - val_accuracy: 0.7845 - val_loss: 0.5222\n",
            "Epoch 2/20\n",
            "\u001b[1m673/673\u001b[0m \u001b[32m━━━━━━━━━━━━━━━━━━━━\u001b[0m\u001b[37m\u001b[0m \u001b[1m3s\u001b[0m 4ms/step - accuracy: 0.7836 - loss: 0.5286 - val_accuracy: 0.8475 - val_loss: 0.3871\n",
            "Epoch 3/20\n",
            "\u001b[1m673/673\u001b[0m \u001b[32m━━━━━━━━━━━━━━━━━━━━\u001b[0m\u001b[37m\u001b[0m \u001b[1m6s\u001b[0m 9ms/step - accuracy: 0.8237 - loss: 0.4266 - val_accuracy: 0.8732 - val_loss: 0.3246\n",
            "Epoch 4/20\n",
            "\u001b[1m673/673\u001b[0m \u001b[32m━━━━━━━━━━━━━━━━━━━━\u001b[0m\u001b[37m\u001b[0m \u001b[1m2s\u001b[0m 3ms/step - accuracy: 0.8456 - loss: 0.3726 - val_accuracy: 0.8908 - val_loss: 0.2843\n",
            "Epoch 5/20\n",
            "\u001b[1m673/673\u001b[0m \u001b[32m━━━━━━━━━━━━━━━━━━━━\u001b[0m\u001b[37m\u001b[0m \u001b[1m2s\u001b[0m 3ms/step - accuracy: 0.8618 - loss: 0.3345 - val_accuracy: 0.9010 - val_loss: 0.2540\n",
            "Epoch 6/20\n",
            "\u001b[1m673/673\u001b[0m \u001b[32m━━━━━━━━━━━━━━━━━━━━\u001b[0m\u001b[37m\u001b[0m \u001b[1m2s\u001b[0m 3ms/step - accuracy: 0.8693 - loss: 0.3085 - val_accuracy: 0.9102 - val_loss: 0.2278\n",
            "Epoch 7/20\n",
            "\u001b[1m673/673\u001b[0m \u001b[32m━━━━━━━━━━━━━━━━━━━━\u001b[0m\u001b[37m\u001b[0m \u001b[1m3s\u001b[0m 4ms/step - accuracy: 0.8819 - loss: 0.2833 - val_accuracy: 0.9201 - val_loss: 0.2071\n",
            "Epoch 8/20\n",
            "\u001b[1m673/673\u001b[0m \u001b[32m━━━━━━━━━━━━━━━━━━━━\u001b[0m\u001b[37m\u001b[0m \u001b[1m4s\u001b[0m 5ms/step - accuracy: 0.8937 - loss: 0.2563 - val_accuracy: 0.9282 - val_loss: 0.1882\n",
            "Epoch 9/20\n",
            "\u001b[1m673/673\u001b[0m \u001b[32m━━━━━━━━━━━━━━━━━━━━\u001b[0m\u001b[37m\u001b[0m \u001b[1m3s\u001b[0m 4ms/step - accuracy: 0.9015 - loss: 0.2407 - val_accuracy: 0.9343 - val_loss: 0.1706\n",
            "Epoch 10/20\n",
            "\u001b[1m673/673\u001b[0m \u001b[32m━━━━━━━━━━━━━━━━━━━━\u001b[0m\u001b[37m\u001b[0m \u001b[1m2s\u001b[0m 3ms/step - accuracy: 0.9074 - loss: 0.2241 - val_accuracy: 0.9427 - val_loss: 0.1544\n",
            "Epoch 11/20\n",
            "\u001b[1m673/673\u001b[0m \u001b[32m━━━━━━━━━━━━━━━━━━━━\u001b[0m\u001b[37m\u001b[0m \u001b[1m2s\u001b[0m 3ms/step - accuracy: 0.9173 - loss: 0.2062 - val_accuracy: 0.9487 - val_loss: 0.1399\n",
            "Epoch 12/20\n",
            "\u001b[1m673/673\u001b[0m \u001b[32m━━━━━━━━━━━━━━━━━━━━\u001b[0m\u001b[37m\u001b[0m \u001b[1m2s\u001b[0m 3ms/step - accuracy: 0.9220 - loss: 0.1914 - val_accuracy: 0.9555 - val_loss: 0.1270\n",
            "Epoch 13/20\n",
            "\u001b[1m673/673\u001b[0m \u001b[32m━━━━━━━━━━━━━━━━━━━━\u001b[0m\u001b[37m\u001b[0m \u001b[1m3s\u001b[0m 5ms/step - accuracy: 0.9278 - loss: 0.1798 - val_accuracy: 0.9616 - val_loss: 0.1162\n",
            "Epoch 14/20\n",
            "\u001b[1m673/673\u001b[0m \u001b[32m━━━━━━━━━━━━━━━━━━━━\u001b[0m\u001b[37m\u001b[0m \u001b[1m3s\u001b[0m 5ms/step - accuracy: 0.9335 - loss: 0.1672 - val_accuracy: 0.9649 - val_loss: 0.1083\n",
            "Epoch 15/20\n",
            "\u001b[1m673/673\u001b[0m \u001b[32m━━━━━━━━━━━━━━━━━━━━\u001b[0m\u001b[37m\u001b[0m \u001b[1m2s\u001b[0m 4ms/step - accuracy: 0.9378 - loss: 0.1553 - val_accuracy: 0.9688 - val_loss: 0.1002\n",
            "Epoch 16/20\n",
            "\u001b[1m673/673\u001b[0m \u001b[32m━━━━━━━━━━━━━━━━━━━━\u001b[0m\u001b[37m\u001b[0m \u001b[1m2s\u001b[0m 3ms/step - accuracy: 0.9404 - loss: 0.1489 - val_accuracy: 0.9725 - val_loss: 0.0924\n",
            "Epoch 17/20\n",
            "\u001b[1m673/673\u001b[0m \u001b[32m━━━━━━━━━━━━━━━━━━━━\u001b[0m\u001b[37m\u001b[0m \u001b[1m2s\u001b[0m 3ms/step - accuracy: 0.9463 - loss: 0.1382 - val_accuracy: 0.9764 - val_loss: 0.0857\n",
            "Epoch 18/20\n",
            "\u001b[1m673/673\u001b[0m \u001b[32m━━━━━━━━━━━━━━━━━━━━\u001b[0m\u001b[37m\u001b[0m \u001b[1m3s\u001b[0m 4ms/step - accuracy: 0.9496 - loss: 0.1321 - val_accuracy: 0.9766 - val_loss: 0.0797\n",
            "Epoch 19/20\n",
            "\u001b[1m673/673\u001b[0m \u001b[32m━━━━━━━━━━━━━━━━━━━━\u001b[0m\u001b[37m\u001b[0m \u001b[1m4s\u001b[0m 6ms/step - accuracy: 0.9523 - loss: 0.1218 - val_accuracy: 0.9798 - val_loss: 0.0744\n",
            "Epoch 20/20\n",
            "\u001b[1m673/673\u001b[0m \u001b[32m━━━━━━━━━━━━━━━━━━━━\u001b[0m\u001b[37m\u001b[0m \u001b[1m4s\u001b[0m 4ms/step - accuracy: 0.9548 - loss: 0.1172 - val_accuracy: 0.9800 - val_loss: 0.0704\n"
          ]
        }
      ]
    },
    {
      "cell_type": "code",
      "source": [
        "\n",
        "model = Sequential([\n",
        "    Dense(128, activation='relu', input_shape=(X_train.shape[1],)),\n",
        "    Dropout(0.3),\n",
        "    Dense(64, activation='relu'),\n",
        "    Dropout(0.3),\n",
        "    Dense(len(np.unique(y_encoded)), activation='softmax')\n",
        "]) #Layers with highest accuracy\n",
        "\n",
        "model.compile(\n",
        "    optimizer=Adam(learning_rate=5e-4),  #Learning rate with most accuracy (5e-4)\n",
        "    loss='sparse_categorical_crossentropy',\n",
        "    metrics=['accuracy']\n",
        ")\n",
        "\n",
        "history = model.fit(\n",
        "    X_train, y_train,\n",
        "    validation_split=0.1,\n",
        "    epochs=20,\n",
        "    batch_size=128,\n",
        "    verbose=1\n",
        ")\n"
      ],
      "metadata": {
        "colab": {
          "base_uri": "https://localhost:8080/"
        },
        "id": "40ACatNQ-QFB",
        "outputId": "3c9eff11-4fce-4ed9-9631-d66defd6f047"
      },
      "execution_count": 11,
      "outputs": [
        {
          "output_type": "stream",
          "name": "stdout",
          "text": [
            "Epoch 1/20\n"
          ]
        },
        {
          "output_type": "stream",
          "name": "stderr",
          "text": [
            "/usr/local/lib/python3.12/dist-packages/keras/src/layers/core/dense.py:93: UserWarning: Do not pass an `input_shape`/`input_dim` argument to a layer. When using Sequential models, prefer using an `Input(shape)` object as the first layer in the model instead.\n",
            "  super().__init__(activity_regularizer=activity_regularizer, **kwargs)\n"
          ]
        },
        {
          "output_type": "stream",
          "name": "stdout",
          "text": [
            "\u001b[1m673/673\u001b[0m \u001b[32m━━━━━━━━━━━━━━━━━━━━\u001b[0m\u001b[37m\u001b[0m \u001b[1m4s\u001b[0m 4ms/step - accuracy: 0.7501 - loss: 0.6248 - val_accuracy: 0.8953 - val_loss: 0.2646\n",
            "Epoch 2/20\n",
            "\u001b[1m673/673\u001b[0m \u001b[32m━━━━━━━━━━━━━━━━━━━━\u001b[0m\u001b[37m\u001b[0m \u001b[1m2s\u001b[0m 4ms/step - accuracy: 0.8796 - loss: 0.2871 - val_accuracy: 0.9406 - val_loss: 0.1596\n",
            "Epoch 3/20\n",
            "\u001b[1m673/673\u001b[0m \u001b[32m━━━━━━━━━━━━━━━━━━━━\u001b[0m\u001b[37m\u001b[0m \u001b[1m2s\u001b[0m 4ms/step - accuracy: 0.9231 - loss: 0.1910 - val_accuracy: 0.9708 - val_loss: 0.1079\n",
            "Epoch 4/20\n",
            "\u001b[1m673/673\u001b[0m \u001b[32m━━━━━━━━━━━━━━━━━━━━\u001b[0m\u001b[37m\u001b[0m \u001b[1m3s\u001b[0m 5ms/step - accuracy: 0.9437 - loss: 0.1472 - val_accuracy: 0.9767 - val_loss: 0.0776\n",
            "Epoch 5/20\n",
            "\u001b[1m673/673\u001b[0m \u001b[32m━━━━━━━━━━━━━━━━━━━━\u001b[0m\u001b[37m\u001b[0m \u001b[1m3s\u001b[0m 5ms/step - accuracy: 0.9547 - loss: 0.1138 - val_accuracy: 0.9799 - val_loss: 0.0652\n",
            "Epoch 6/20\n",
            "\u001b[1m673/673\u001b[0m \u001b[32m━━━━━━━━━━━━━━━━━━━━\u001b[0m\u001b[37m\u001b[0m \u001b[1m2s\u001b[0m 4ms/step - accuracy: 0.9624 - loss: 0.0984 - val_accuracy: 0.9841 - val_loss: 0.0542\n",
            "Epoch 7/20\n",
            "\u001b[1m673/673\u001b[0m \u001b[32m━━━━━━━━━━━━━━━━━━━━\u001b[0m\u001b[37m\u001b[0m \u001b[1m2s\u001b[0m 4ms/step - accuracy: 0.9667 - loss: 0.0893 - val_accuracy: 0.9850 - val_loss: 0.0524\n",
            "Epoch 8/20\n",
            "\u001b[1m673/673\u001b[0m \u001b[32m━━━━━━━━━━━━━━━━━━━━\u001b[0m\u001b[37m\u001b[0m \u001b[1m2s\u001b[0m 3ms/step - accuracy: 0.9715 - loss: 0.0832 - val_accuracy: 0.9870 - val_loss: 0.0415\n",
            "Epoch 9/20\n",
            "\u001b[1m673/673\u001b[0m \u001b[32m━━━━━━━━━━━━━━━━━━━━\u001b[0m\u001b[37m\u001b[0m \u001b[1m3s\u001b[0m 4ms/step - accuracy: 0.9734 - loss: 0.0674 - val_accuracy: 0.9875 - val_loss: 0.0401\n",
            "Epoch 10/20\n",
            "\u001b[1m673/673\u001b[0m \u001b[32m━━━━━━━━━━━━━━━━━━━━\u001b[0m\u001b[37m\u001b[0m \u001b[1m4s\u001b[0m 6ms/step - accuracy: 0.9771 - loss: 0.0613 - val_accuracy: 0.9882 - val_loss: 0.0360\n",
            "Epoch 11/20\n",
            "\u001b[1m673/673\u001b[0m \u001b[32m━━━━━━━━━━━━━━━━━━━━\u001b[0m\u001b[37m\u001b[0m \u001b[1m4s\u001b[0m 4ms/step - accuracy: 0.9787 - loss: 0.0571 - val_accuracy: 0.9902 - val_loss: 0.0302\n",
            "Epoch 12/20\n",
            "\u001b[1m673/673\u001b[0m \u001b[32m━━━━━━━━━━━━━━━━━━━━\u001b[0m\u001b[37m\u001b[0m \u001b[1m2s\u001b[0m 4ms/step - accuracy: 0.9795 - loss: 0.0542 - val_accuracy: 0.9915 - val_loss: 0.0274\n",
            "Epoch 13/20\n",
            "\u001b[1m673/673\u001b[0m \u001b[32m━━━━━━━━━━━━━━━━━━━━\u001b[0m\u001b[37m\u001b[0m \u001b[1m2s\u001b[0m 4ms/step - accuracy: 0.9814 - loss: 0.0505 - val_accuracy: 0.9925 - val_loss: 0.0245\n",
            "Epoch 14/20\n",
            "\u001b[1m673/673\u001b[0m \u001b[32m━━━━━━━━━━━━━━━━━━━━\u001b[0m\u001b[37m\u001b[0m \u001b[1m3s\u001b[0m 4ms/step - accuracy: 0.9838 - loss: 0.0444 - val_accuracy: 0.9900 - val_loss: 0.0262\n",
            "Epoch 15/20\n",
            "\u001b[1m673/673\u001b[0m \u001b[32m━━━━━━━━━━━━━━━━━━━━\u001b[0m\u001b[37m\u001b[0m \u001b[1m4s\u001b[0m 5ms/step - accuracy: 0.9830 - loss: 0.0437 - val_accuracy: 0.9921 - val_loss: 0.0233\n",
            "Epoch 16/20\n",
            "\u001b[1m673/673\u001b[0m \u001b[32m━━━━━━━━━━━━━━━━━━━━\u001b[0m\u001b[37m\u001b[0m \u001b[1m2s\u001b[0m 4ms/step - accuracy: 0.9848 - loss: 0.0413 - val_accuracy: 0.9912 - val_loss: 0.0233\n",
            "Epoch 17/20\n",
            "\u001b[1m673/673\u001b[0m \u001b[32m━━━━━━━━━━━━━━━━━━━━\u001b[0m\u001b[37m\u001b[0m \u001b[1m3s\u001b[0m 4ms/step - accuracy: 0.9854 - loss: 0.0386 - val_accuracy: 0.9951 - val_loss: 0.0189\n",
            "Epoch 18/20\n",
            "\u001b[1m673/673\u001b[0m \u001b[32m━━━━━━━━━━━━━━━━━━━━\u001b[0m\u001b[37m\u001b[0m \u001b[1m2s\u001b[0m 4ms/step - accuracy: 0.9866 - loss: 0.0347 - val_accuracy: 0.9908 - val_loss: 0.0246\n",
            "Epoch 19/20\n",
            "\u001b[1m673/673\u001b[0m \u001b[32m━━━━━━━━━━━━━━━━━━━━\u001b[0m\u001b[37m\u001b[0m \u001b[1m2s\u001b[0m 4ms/step - accuracy: 0.9871 - loss: 0.0342 - val_accuracy: 0.9936 - val_loss: 0.0184\n",
            "Epoch 20/20\n",
            "\u001b[1m673/673\u001b[0m \u001b[32m━━━━━━━━━━━━━━━━━━━━\u001b[0m\u001b[37m\u001b[0m \u001b[1m4s\u001b[0m 5ms/step - accuracy: 0.9878 - loss: 0.0330 - val_accuracy: 0.9946 - val_loss: 0.0162\n"
          ]
        }
      ]
    },
    {
      "cell_type": "code",
      "source": [
        "\n",
        "\n",
        "model = Sequential([\n",
        "    Dense(64, activation='relu', input_shape=(X_train.shape[1],)),\n",
        "    Dropout(0.3),\n",
        "    Dense(32, activation='relu'),\n",
        "    Dropout(0.3),\n",
        "    Dense(len(np.unique(y_encoded)), activation='softmax')\n",
        "])\n",
        "\n",
        "model.compile(\n",
        "    optimizer=Adam(learning_rate=5e-4),\n",
        "    loss='sparse_categorical_crossentropy',\n",
        "    metrics=['accuracy']\n",
        ")\n",
        "\n",
        "history = model.fit(\n",
        "    X_train, y_train,\n",
        "    validation_split=0.1,\n",
        "    epochs=20,\n",
        "    batch_size=128,\n",
        "    verbose=1\n",
        ")\n"
      ],
      "metadata": {
        "colab": {
          "base_uri": "https://localhost:8080/"
        },
        "id": "O6TYsVud_HK4",
        "outputId": "096b608f-1618-4572-8c08-da9ee57e552a"
      },
      "execution_count": 12,
      "outputs": [
        {
          "output_type": "stream",
          "name": "stdout",
          "text": [
            "Epoch 1/20\n",
            "\u001b[1m673/673\u001b[0m \u001b[32m━━━━━━━━━━━━━━━━━━━━\u001b[0m\u001b[37m\u001b[0m \u001b[1m6s\u001b[0m 3ms/step - accuracy: 0.7204 - loss: 0.6956 - val_accuracy: 0.8791 - val_loss: 0.3233\n",
            "Epoch 2/20\n",
            "\u001b[1m673/673\u001b[0m \u001b[32m━━━━━━━━━━━━━━━━━━━━\u001b[0m\u001b[37m\u001b[0m \u001b[1m2s\u001b[0m 3ms/step - accuracy: 0.8456 - loss: 0.3677 - val_accuracy: 0.9157 - val_loss: 0.2244\n",
            "Epoch 3/20\n",
            "\u001b[1m673/673\u001b[0m \u001b[32m━━━━━━━━━━━━━━━━━━━━\u001b[0m\u001b[37m\u001b[0m \u001b[1m2s\u001b[0m 3ms/step - accuracy: 0.8869 - loss: 0.2731 - val_accuracy: 0.9432 - val_loss: 0.1603\n",
            "Epoch 4/20\n",
            "\u001b[1m673/673\u001b[0m \u001b[32m━━━━━━━━━━━━━━━━━━━━\u001b[0m\u001b[37m\u001b[0m \u001b[1m3s\u001b[0m 3ms/step - accuracy: 0.9169 - loss: 0.2066 - val_accuracy: 0.9611 - val_loss: 0.1202\n",
            "Epoch 5/20\n",
            "\u001b[1m673/673\u001b[0m \u001b[32m━━━━━━━━━━━━━━━━━━━━\u001b[0m\u001b[37m\u001b[0m \u001b[1m2s\u001b[0m 3ms/step - accuracy: 0.9359 - loss: 0.1671 - val_accuracy: 0.9720 - val_loss: 0.0921\n",
            "Epoch 6/20\n",
            "\u001b[1m673/673\u001b[0m \u001b[32m━━━━━━━━━━━━━━━━━━━━\u001b[0m\u001b[37m\u001b[0m \u001b[1m3s\u001b[0m 5ms/step - accuracy: 0.9451 - loss: 0.1413 - val_accuracy: 0.9802 - val_loss: 0.0761\n",
            "Epoch 7/20\n",
            "\u001b[1m673/673\u001b[0m \u001b[32m━━━━━━━━━━━━━━━━━━━━\u001b[0m\u001b[37m\u001b[0m \u001b[1m2s\u001b[0m 4ms/step - accuracy: 0.9557 - loss: 0.1222 - val_accuracy: 0.9795 - val_loss: 0.0677\n",
            "Epoch 8/20\n",
            "\u001b[1m673/673\u001b[0m \u001b[32m━━━━━━━━━━━━━━━━━━━━\u001b[0m\u001b[37m\u001b[0m \u001b[1m2s\u001b[0m 3ms/step - accuracy: 0.9591 - loss: 0.1082 - val_accuracy: 0.9843 - val_loss: 0.0584\n",
            "Epoch 9/20\n",
            "\u001b[1m673/673\u001b[0m \u001b[32m━━━━━━━━━━━━━━━━━━━━\u001b[0m\u001b[37m\u001b[0m \u001b[1m2s\u001b[0m 3ms/step - accuracy: 0.9624 - loss: 0.1002 - val_accuracy: 0.9839 - val_loss: 0.0521\n",
            "Epoch 10/20\n",
            "\u001b[1m673/673\u001b[0m \u001b[32m━━━━━━━━━━━━━━━━━━━━\u001b[0m\u001b[37m\u001b[0m \u001b[1m2s\u001b[0m 3ms/step - accuracy: 0.9661 - loss: 0.0898 - val_accuracy: 0.9864 - val_loss: 0.0481\n",
            "Epoch 11/20\n",
            "\u001b[1m673/673\u001b[0m \u001b[32m━━━━━━━━━━━━━━━━━━━━\u001b[0m\u001b[37m\u001b[0m \u001b[1m2s\u001b[0m 3ms/step - accuracy: 0.9691 - loss: 0.0799 - val_accuracy: 0.9861 - val_loss: 0.0438\n",
            "Epoch 12/20\n",
            "\u001b[1m673/673\u001b[0m \u001b[32m━━━━━━━━━━━━━━━━━━━━\u001b[0m\u001b[37m\u001b[0m \u001b[1m3s\u001b[0m 4ms/step - accuracy: 0.9723 - loss: 0.0749 - val_accuracy: 0.9889 - val_loss: 0.0384\n",
            "Epoch 13/20\n",
            "\u001b[1m673/673\u001b[0m \u001b[32m━━━━━━━━━━━━━━━━━━━━\u001b[0m\u001b[37m\u001b[0m \u001b[1m3s\u001b[0m 4ms/step - accuracy: 0.9736 - loss: 0.0693 - val_accuracy: 0.9902 - val_loss: 0.0355\n",
            "Epoch 14/20\n",
            "\u001b[1m673/673\u001b[0m \u001b[32m━━━━━━━━━━━━━━━━━━━━\u001b[0m\u001b[37m\u001b[0m \u001b[1m2s\u001b[0m 3ms/step - accuracy: 0.9746 - loss: 0.0669 - val_accuracy: 0.9919 - val_loss: 0.0318\n",
            "Epoch 15/20\n",
            "\u001b[1m673/673\u001b[0m \u001b[32m━━━━━━━━━━━━━━━━━━━━\u001b[0m\u001b[37m\u001b[0m \u001b[1m2s\u001b[0m 3ms/step - accuracy: 0.9769 - loss: 0.0619 - val_accuracy: 0.9896 - val_loss: 0.0317\n",
            "Epoch 16/20\n",
            "\u001b[1m673/673\u001b[0m \u001b[32m━━━━━━━━━━━━━━━━━━━━\u001b[0m\u001b[37m\u001b[0m \u001b[1m2s\u001b[0m 3ms/step - accuracy: 0.9780 - loss: 0.0569 - val_accuracy: 0.9923 - val_loss: 0.0273\n",
            "Epoch 17/20\n",
            "\u001b[1m673/673\u001b[0m \u001b[32m━━━━━━━━━━━━━━━━━━━━\u001b[0m\u001b[37m\u001b[0m \u001b[1m2s\u001b[0m 3ms/step - accuracy: 0.9793 - loss: 0.0558 - val_accuracy: 0.9937 - val_loss: 0.0247\n",
            "Epoch 18/20\n",
            "\u001b[1m673/673\u001b[0m \u001b[32m━━━━━━━━━━━━━━━━━━━━\u001b[0m\u001b[37m\u001b[0m \u001b[1m3s\u001b[0m 3ms/step - accuracy: 0.9813 - loss: 0.0502 - val_accuracy: 0.9931 - val_loss: 0.0236\n",
            "Epoch 19/20\n",
            "\u001b[1m673/673\u001b[0m \u001b[32m━━━━━━━━━━━━━━━━━━━━\u001b[0m\u001b[37m\u001b[0m \u001b[1m3s\u001b[0m 5ms/step - accuracy: 0.9825 - loss: 0.0478 - val_accuracy: 0.9935 - val_loss: 0.0229\n",
            "Epoch 20/20\n",
            "\u001b[1m673/673\u001b[0m \u001b[32m━━━━━━━━━━━━━━━━━━━━\u001b[0m\u001b[37m\u001b[0m \u001b[1m2s\u001b[0m 3ms/step - accuracy: 0.9834 - loss: 0.0457 - val_accuracy: 0.9923 - val_loss: 0.0240\n"
          ]
        }
      ]
    },
    {
      "cell_type": "code",
      "source": [
        "\n",
        "\n",
        "model = Sequential([\n",
        "    Dense(256, activation='relu', input_shape=(X_train.shape[1],)),\n",
        "    Dropout(0.3),\n",
        "    Dense(128, activation='relu'),\n",
        "    Dropout(0.3),\n",
        "    Dense(64, activation='relu'),\n",
        "    Dropout(0.3),\n",
        "    Dense(len(np.unique(y_encoded)), activation='softmax')\n",
        "])\n",
        "\n",
        "\n",
        "\n",
        "model.compile(\n",
        "    optimizer=Adam(learning_rate=5e-4),\n",
        "    loss='sparse_categorical_crossentropy',\n",
        "    metrics=['accuracy']\n",
        ")\n",
        "\n",
        "history = model.fit(\n",
        "    X_train, y_train,\n",
        "    validation_split=0.1,\n",
        "    epochs=20,\n",
        "    batch_size=128,\n",
        "    verbose=1\n",
        ")\n"
      ],
      "metadata": {
        "colab": {
          "base_uri": "https://localhost:8080/"
        },
        "id": "51wj_OeA_4C6",
        "outputId": "48f35d9a-ac3f-4070-b670-c29396c33b1f"
      },
      "execution_count": 13,
      "outputs": [
        {
          "output_type": "stream",
          "name": "stdout",
          "text": [
            "Epoch 1/20\n"
          ]
        },
        {
          "output_type": "stream",
          "name": "stderr",
          "text": [
            "/usr/local/lib/python3.12/dist-packages/keras/src/layers/core/dense.py:93: UserWarning: Do not pass an `input_shape`/`input_dim` argument to a layer. When using Sequential models, prefer using an `Input(shape)` object as the first layer in the model instead.\n",
            "  super().__init__(activity_regularizer=activity_regularizer, **kwargs)\n"
          ]
        },
        {
          "output_type": "stream",
          "name": "stdout",
          "text": [
            "\u001b[1m673/673\u001b[0m \u001b[32m━━━━━━━━━━━━━━━━━━━━\u001b[0m\u001b[37m\u001b[0m \u001b[1m6s\u001b[0m 6ms/step - accuracy: 0.7878 - loss: 0.5393 - val_accuracy: 0.9235 - val_loss: 0.1883\n",
            "Epoch 2/20\n",
            "\u001b[1m673/673\u001b[0m \u001b[32m━━━━━━━━━━━━━━━━━━━━\u001b[0m\u001b[37m\u001b[0m \u001b[1m5s\u001b[0m 7ms/step - accuracy: 0.9051 - loss: 0.2309 - val_accuracy: 0.9664 - val_loss: 0.0926\n",
            "Epoch 3/20\n",
            "\u001b[1m673/673\u001b[0m \u001b[32m━━━━━━━━━━━━━━━━━━━━\u001b[0m\u001b[37m\u001b[0m \u001b[1m5s\u001b[0m 7ms/step - accuracy: 0.9444 - loss: 0.1447 - val_accuracy: 0.9742 - val_loss: 0.0677\n",
            "Epoch 4/20\n",
            "\u001b[1m673/673\u001b[0m \u001b[32m━━━━━━━━━━━━━━━━━━━━\u001b[0m\u001b[37m\u001b[0m \u001b[1m4s\u001b[0m 6ms/step - accuracy: 0.9569 - loss: 0.1120 - val_accuracy: 0.9834 - val_loss: 0.0476\n",
            "Epoch 5/20\n",
            "\u001b[1m673/673\u001b[0m \u001b[32m━━━━━━━━━━━━━━━━━━━━\u001b[0m\u001b[37m\u001b[0m \u001b[1m4s\u001b[0m 6ms/step - accuracy: 0.9648 - loss: 0.0906 - val_accuracy: 0.9807 - val_loss: 0.0481\n",
            "Epoch 6/20\n",
            "\u001b[1m673/673\u001b[0m \u001b[32m━━━━━━━━━━━━━━━━━━━━\u001b[0m\u001b[37m\u001b[0m \u001b[1m6s\u001b[0m 8ms/step - accuracy: 0.9692 - loss: 0.0810 - val_accuracy: 0.9848 - val_loss: 0.0397\n",
            "Epoch 7/20\n",
            "\u001b[1m673/673\u001b[0m \u001b[32m━━━━━━━━━━━━━━━━━━━━\u001b[0m\u001b[37m\u001b[0m \u001b[1m4s\u001b[0m 6ms/step - accuracy: 0.9714 - loss: 0.0695 - val_accuracy: 0.9883 - val_loss: 0.0358\n",
            "Epoch 8/20\n",
            "\u001b[1m673/673\u001b[0m \u001b[32m━━━━━━━━━━━━━━━━━━━━\u001b[0m\u001b[37m\u001b[0m \u001b[1m4s\u001b[0m 6ms/step - accuracy: 0.9751 - loss: 0.0618 - val_accuracy: 0.9830 - val_loss: 0.0394\n",
            "Epoch 9/20\n",
            "\u001b[1m673/673\u001b[0m \u001b[32m━━━━━━━━━━━━━━━━━━━━\u001b[0m\u001b[37m\u001b[0m \u001b[1m6s\u001b[0m 9ms/step - accuracy: 0.9771 - loss: 0.0565 - val_accuracy: 0.9872 - val_loss: 0.0319\n",
            "Epoch 10/20\n",
            "\u001b[1m673/673\u001b[0m \u001b[32m━━━━━━━━━━━━━━━━━━━━\u001b[0m\u001b[37m\u001b[0m \u001b[1m5s\u001b[0m 7ms/step - accuracy: 0.9779 - loss: 0.0544 - val_accuracy: 0.9892 - val_loss: 0.0303\n",
            "Epoch 11/20\n",
            "\u001b[1m673/673\u001b[0m \u001b[32m━━━━━━━━━━━━━━━━━━━━\u001b[0m\u001b[37m\u001b[0m \u001b[1m5s\u001b[0m 7ms/step - accuracy: 0.9789 - loss: 0.0537 - val_accuracy: 0.9914 - val_loss: 0.0251\n",
            "Epoch 12/20\n",
            "\u001b[1m673/673\u001b[0m \u001b[32m━━━━━━━━━━━━━━━━━━━━\u001b[0m\u001b[37m\u001b[0m \u001b[1m6s\u001b[0m 9ms/step - accuracy: 0.9805 - loss: 0.0471 - val_accuracy: 0.9915 - val_loss: 0.0246\n",
            "Epoch 13/20\n",
            "\u001b[1m673/673\u001b[0m \u001b[32m━━━━━━━━━━━━━━━━━━━━\u001b[0m\u001b[37m\u001b[0m \u001b[1m4s\u001b[0m 6ms/step - accuracy: 0.9814 - loss: 0.0473 - val_accuracy: 0.9885 - val_loss: 0.0273\n",
            "Epoch 14/20\n",
            "\u001b[1m673/673\u001b[0m \u001b[32m━━━━━━━━━━━━━━━━━━━━\u001b[0m\u001b[37m\u001b[0m \u001b[1m4s\u001b[0m 6ms/step - accuracy: 0.9819 - loss: 0.0444 - val_accuracy: 0.9898 - val_loss: 0.0252\n",
            "Epoch 15/20\n",
            "\u001b[1m673/673\u001b[0m \u001b[32m━━━━━━━━━━━━━━━━━━━━\u001b[0m\u001b[37m\u001b[0m \u001b[1m6s\u001b[0m 8ms/step - accuracy: 0.9827 - loss: 0.0416 - val_accuracy: 0.9906 - val_loss: 0.0234\n",
            "Epoch 16/20\n",
            "\u001b[1m673/673\u001b[0m \u001b[32m━━━━━━━━━━━━━━━━━━━━\u001b[0m\u001b[37m\u001b[0m \u001b[1m4s\u001b[0m 6ms/step - accuracy: 0.9831 - loss: 0.0414 - val_accuracy: 0.9893 - val_loss: 0.0241\n",
            "Epoch 17/20\n",
            "\u001b[1m673/673\u001b[0m \u001b[32m━━━━━━━━━━━━━━━━━━━━\u001b[0m\u001b[37m\u001b[0m \u001b[1m4s\u001b[0m 6ms/step - accuracy: 0.9839 - loss: 0.0390 - val_accuracy: 0.9887 - val_loss: 0.0285\n",
            "Epoch 18/20\n",
            "\u001b[1m673/673\u001b[0m \u001b[32m━━━━━━━━━━━━━━━━━━━━\u001b[0m\u001b[37m\u001b[0m \u001b[1m5s\u001b[0m 7ms/step - accuracy: 0.9841 - loss: 0.0391 - val_accuracy: 0.9898 - val_loss: 0.0235\n",
            "Epoch 19/20\n",
            "\u001b[1m673/673\u001b[0m \u001b[32m━━━━━━━━━━━━━━━━━━━━\u001b[0m\u001b[37m\u001b[0m \u001b[1m5s\u001b[0m 7ms/step - accuracy: 0.9843 - loss: 0.0383 - val_accuracy: 0.9918 - val_loss: 0.0224\n",
            "Epoch 20/20\n",
            "\u001b[1m673/673\u001b[0m \u001b[32m━━━━━━━━━━━━━━━━━━━━\u001b[0m\u001b[37m\u001b[0m \u001b[1m4s\u001b[0m 6ms/step - accuracy: 0.9844 - loss: 0.0386 - val_accuracy: 0.9929 - val_loss: 0.0191\n"
          ]
        }
      ]
    },
    {
      "cell_type": "code",
      "source": [],
      "metadata": {
        "id": "95goR9UbCLFL"
      },
      "execution_count": null,
      "outputs": []
    }
  ]
}